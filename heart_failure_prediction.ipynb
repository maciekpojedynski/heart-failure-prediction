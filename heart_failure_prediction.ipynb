{
  "nbformat": 4,
  "nbformat_minor": 0,
  "metadata": {
    "colab": {
      "provenance": [],
      "mount_file_id": "1Nsc5izKGaEMy9b1ENEvLyrwcHmkWcPjO",
      "authorship_tag": "ABX9TyOem+f22KDboydmE8NzcujL",
      "include_colab_link": true
    },
    "kernelspec": {
      "name": "python3",
      "display_name": "Python 3"
    },
    "language_info": {
      "name": "python"
    }
  },
  "cells": [
    {
      "cell_type": "markdown",
      "metadata": {
        "id": "view-in-github",
        "colab_type": "text"
      },
      "source": [
        "<a href=\"https://colab.research.google.com/github/maciekpojedynski/heart-failure-prediction/blob/main/heart_failure_prediction.ipynb\" target=\"_parent\"><img src=\"https://colab.research.google.com/assets/colab-badge.svg\" alt=\"Open In Colab\"/></a>"
      ]
    },
    {
      "cell_type": "code",
      "execution_count": 1,
      "metadata": {
        "id": "eSTH2fwiOoJ5"
      },
      "outputs": [],
      "source": [
        "#biblioteki\n",
        "import pandas as pd\n",
        "import matplotlib.pyplot as plt\n",
        "import seaborn as sns\n",
        "import numpy as np\n"
      ]
    },
    {
      "cell_type": "code",
      "source": [
        "#Wczytanie danych\n",
        "heart_disease = pd.read_csv('/content/heart.csv')"
      ],
      "metadata": {
        "id": "GU1icIatQhVO"
      },
      "execution_count": 3,
      "outputs": []
    },
    {
      "cell_type": "code",
      "source": [
        "print(heart_disease.head())"
      ],
      "metadata": {
        "colab": {
          "base_uri": "https://localhost:8080/"
        },
        "id": "plmZdZ8tQsY5",
        "outputId": "9658840c-3262-4ae6-add5-ed2dc3a8ae1c"
      },
      "execution_count": 4,
      "outputs": [
        {
          "output_type": "stream",
          "name": "stdout",
          "text": [
            "   Age Sex ChestPainType  RestingBP  Cholesterol  FastingBS RestingECG  MaxHR  \\\n",
            "0   40   M           ATA        140          289          0     Normal    172   \n",
            "1   49   F           NAP        160          180          0     Normal    156   \n",
            "2   37   M           ATA        130          283          0         ST     98   \n",
            "3   48   F           ASY        138          214          0     Normal    108   \n",
            "4   54   M           NAP        150          195          0     Normal    122   \n",
            "\n",
            "  ExerciseAngina  Oldpeak ST_Slope  HeartDisease  \n",
            "0              N      0.0       Up             0  \n",
            "1              N      1.0     Flat             1  \n",
            "2              N      0.0       Up             0  \n",
            "3              Y      1.5     Flat             1  \n",
            "4              N      0.0       Up             0  \n"
          ]
        }
      ]
    },
    {
      "cell_type": "code",
      "source": [
        "print(heart_disease.info())"
      ],
      "metadata": {
        "colab": {
          "base_uri": "https://localhost:8080/"
        },
        "id": "Z2FLavQ2RTfu",
        "outputId": "80f82644-5def-4a03-fadd-263d2ed2aff1"
      },
      "execution_count": 5,
      "outputs": [
        {
          "output_type": "stream",
          "name": "stdout",
          "text": [
            "<class 'pandas.core.frame.DataFrame'>\n",
            "RangeIndex: 918 entries, 0 to 917\n",
            "Data columns (total 12 columns):\n",
            " #   Column          Non-Null Count  Dtype  \n",
            "---  ------          --------------  -----  \n",
            " 0   Age             918 non-null    int64  \n",
            " 1   Sex             918 non-null    object \n",
            " 2   ChestPainType   918 non-null    object \n",
            " 3   RestingBP       918 non-null    int64  \n",
            " 4   Cholesterol     918 non-null    int64  \n",
            " 5   FastingBS       918 non-null    int64  \n",
            " 6   RestingECG      918 non-null    object \n",
            " 7   MaxHR           918 non-null    int64  \n",
            " 8   ExerciseAngina  918 non-null    object \n",
            " 9   Oldpeak         918 non-null    float64\n",
            " 10  ST_Slope        918 non-null    object \n",
            " 11  HeartDisease    918 non-null    int64  \n",
            "dtypes: float64(1), int64(6), object(5)\n",
            "memory usage: 86.2+ KB\n",
            "None\n"
          ]
        }
      ]
    },
    {
      "cell_type": "code",
      "source": [
        "print(heart_disease.describe())"
      ],
      "metadata": {
        "colab": {
          "base_uri": "https://localhost:8080/"
        },
        "id": "d7sDFHxKRg1n",
        "outputId": "7f8bfd9e-27e9-417a-d898-676bc3153f3e"
      },
      "execution_count": 6,
      "outputs": [
        {
          "output_type": "stream",
          "name": "stdout",
          "text": [
            "              Age   RestingBP  Cholesterol   FastingBS       MaxHR  \\\n",
            "count  918.000000  918.000000   918.000000  918.000000  918.000000   \n",
            "mean    53.510893  132.396514   198.799564    0.233115  136.809368   \n",
            "std      9.432617   18.514154   109.384145    0.423046   25.460334   \n",
            "min     28.000000    0.000000     0.000000    0.000000   60.000000   \n",
            "25%     47.000000  120.000000   173.250000    0.000000  120.000000   \n",
            "50%     54.000000  130.000000   223.000000    0.000000  138.000000   \n",
            "75%     60.000000  140.000000   267.000000    0.000000  156.000000   \n",
            "max     77.000000  200.000000   603.000000    1.000000  202.000000   \n",
            "\n",
            "          Oldpeak  HeartDisease  \n",
            "count  918.000000    918.000000  \n",
            "mean     0.887364      0.553377  \n",
            "std      1.066570      0.497414  \n",
            "min     -2.600000      0.000000  \n",
            "25%      0.000000      0.000000  \n",
            "50%      0.600000      1.000000  \n",
            "75%      1.500000      1.000000  \n",
            "max      6.200000      1.000000  \n"
          ]
        }
      ]
    },
    {
      "cell_type": "code",
      "source": [
        "#Sprawdzanie wartosci null\n",
        "print(heart_disease.isnull().sum())"
      ],
      "metadata": {
        "colab": {
          "base_uri": "https://localhost:8080/"
        },
        "id": "NhW4DfRySHRf",
        "outputId": "8b56d607-0c00-445c-ffb6-f2976b7a1ad1"
      },
      "execution_count": 7,
      "outputs": [
        {
          "output_type": "stream",
          "name": "stdout",
          "text": [
            "Age               0\n",
            "Sex               0\n",
            "ChestPainType     0\n",
            "RestingBP         0\n",
            "Cholesterol       0\n",
            "FastingBS         0\n",
            "RestingECG        0\n",
            "MaxHR             0\n",
            "ExerciseAngina    0\n",
            "Oldpeak           0\n",
            "ST_Slope          0\n",
            "HeartDisease      0\n",
            "dtype: int64\n"
          ]
        }
      ]
    },
    {
      "cell_type": "code",
      "source": [
        "#Sprawdzanie typów kolumn\n",
        "print(heart_disease.dtypes)"
      ],
      "metadata": {
        "colab": {
          "base_uri": "https://localhost:8080/"
        },
        "id": "clIvAI4BSZ48",
        "outputId": "b0aa01bc-8d55-4a37-c5ba-fc6a854ee163"
      },
      "execution_count": 8,
      "outputs": [
        {
          "output_type": "stream",
          "name": "stdout",
          "text": [
            "Age                 int64\n",
            "Sex                object\n",
            "ChestPainType      object\n",
            "RestingBP           int64\n",
            "Cholesterol         int64\n",
            "FastingBS           int64\n",
            "RestingECG         object\n",
            "MaxHR               int64\n",
            "ExerciseAngina     object\n",
            "Oldpeak           float64\n",
            "ST_Slope           object\n",
            "HeartDisease        int64\n",
            "dtype: object\n"
          ]
        }
      ]
    },
    {
      "cell_type": "markdown",
      "source": [
        "**Sex categories**:\n",
        "- M = *Male*\n",
        "- F = *Female*"
      ],
      "metadata": {
        "id": "LyGrivg4TNL2"
      }
    },
    {
      "cell_type": "code",
      "source": [
        "#Sprawdzanie kategori w kolumnie Sex\n",
        "print(heart_disease['Sex'].value_counts())"
      ],
      "metadata": {
        "colab": {
          "base_uri": "https://localhost:8080/"
        },
        "id": "Sjv9S4l-S35F",
        "outputId": "b28d7b00-326b-4b61-e065-7e25030ce02e"
      },
      "execution_count": 10,
      "outputs": [
        {
          "output_type": "stream",
          "name": "stdout",
          "text": [
            "Sex\n",
            "M    725\n",
            "F    193\n",
            "Name: count, dtype: int64\n"
          ]
        }
      ]
    },
    {
      "cell_type": "markdown",
      "source": [
        "**ChestPainType categories**:\n",
        "- TA = *Typical Angina*\n",
        "- ATA = *Atypical Angina*\n",
        "- NAP = *Non-Anginal Pain*\n",
        "- ASY = *Asymptomatic*"
      ],
      "metadata": {
        "id": "G9_hLGHYQ5mw"
      }
    },
    {
      "cell_type": "code",
      "source": [
        "#Sprawdzanie kategori w kolumnie ChestPainType\n",
        "print(heart_disease['ChestPainType'].value_counts())"
      ],
      "metadata": {
        "colab": {
          "base_uri": "https://localhost:8080/"
        },
        "id": "MtTEXrtaTDXN",
        "outputId": "098ac10a-78e7-4790-9628-62adb73e08ab"
      },
      "execution_count": 11,
      "outputs": [
        {
          "output_type": "stream",
          "name": "stdout",
          "text": [
            "ChestPainType\n",
            "ASY    496\n",
            "NAP    203\n",
            "ATA    173\n",
            "TA      46\n",
            "Name: count, dtype: int64\n"
          ]
        }
      ]
    },
    {
      "cell_type": "code",
      "source": [
        "#Sprawdzanie kategori w RestingECG\n",
        "print(heart_disease['RestingECG'].value_counts())"
      ],
      "metadata": {
        "colab": {
          "base_uri": "https://localhost:8080/"
        },
        "id": "cfOfP_yrTMQM",
        "outputId": "5f4a4ed8-bae4-40ad-85fc-0e9ddf77cb23"
      },
      "execution_count": 12,
      "outputs": [
        {
          "output_type": "stream",
          "name": "stdout",
          "text": [
            "RestingECG\n",
            "Normal    552\n",
            "LVH       188\n",
            "ST        178\n",
            "Name: count, dtype: int64\n"
          ]
        }
      ]
    }
  ]
}