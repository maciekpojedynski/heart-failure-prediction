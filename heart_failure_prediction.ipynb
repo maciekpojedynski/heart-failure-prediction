{
  "nbformat": 4,
  "nbformat_minor": 0,
  "metadata": {
    "colab": {
      "provenance": [],
      "mount_file_id": "1Nsc5izKGaEMy9b1ENEvLyrwcHmkWcPjO",
      "authorship_tag": "ABX9TyPK4AxbC5tSlouiFuUCY4XT",
      "include_colab_link": true
    },
    "kernelspec": {
      "name": "python3",
      "display_name": "Python 3"
    },
    "language_info": {
      "name": "python"
    }
  },
  "cells": [
    {
      "cell_type": "markdown",
      "metadata": {
        "id": "view-in-github",
        "colab_type": "text"
      },
      "source": [
        "<a href=\"https://colab.research.google.com/github/maciekpojedynski/heart-failure-prediction/blob/main/heart_failure_prediction.ipynb\" target=\"_parent\"><img src=\"https://colab.research.google.com/assets/colab-badge.svg\" alt=\"Open In Colab\"/></a>"
      ]
    },
    {
      "cell_type": "code",
      "execution_count": null,
      "metadata": {
        "id": "eSTH2fwiOoJ5"
      },
      "outputs": [],
      "source": []
    }
  ]
}